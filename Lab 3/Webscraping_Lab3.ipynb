{
 "cells": [
  {
   "cell_type": "markdown",
   "metadata": {},
   "source": [
    "# Lab 3: Webscraping\n",
    "Complete the following 3 problems using your knowledge of webscraping.You will need the `requests` library and the `BeautifulSoup` library. You may want to use regular expressions.\n",
    "\n",
    "**Rubric**\n",
    "- 4 points: Completes all three problems as described\n",
    "- 3 points: Completes two of the problems as described\n",
    "- 2.5 points: Completes one of the problems as described\n",
    "- 2 points: Missing or incomplete\n",
    "\n",
    "## Problem 1: Link Scraper\n",
    "For a website of your choice, print out the all of the other websites it links to. You will likely want to use `find_all()` to find all groups with the name `a`. Exclude all other links within the original site (all of the links with the same second level domain or that start with `/` which is a direct link to another link on the page) from the list. When you list the websites, only include the subdomain, second level domain and the top level domain. \n",
    "\n",
    "[<img src=\"fbXVa-uUJ8a0UbBoFZ15bPBMzFSNgIHCnKoV9dBpfLh0f38XFkbCwPTZ0ndsFHvs3jXhaW3evp4MSZqkVXgx1IA9e_LKOeCNd0M7BqKb4se_hgJhkqoI1GnAByOtU1Y-o-THkyCIp0oLsQDTtvOapO8.jpeg\" width=\"1000\"/>](https://static.semrush.com/blog/uploads/media/8c/c1/8cc13f0b8a740cb9b70b77d63f4864ad/32ee8c923efb202c979908b8173729c7/fbXVa-uUJ8a0UbBoFZ15bPBMzFSNgIHCnKoV9dBpfLh0f38XFkbCwPTZ0ndsFHvs3jXhaW3evp4MSZqkVXgx1IA9e_LKOeCNd0M7BqKb4se_hgJhkqoI1GnAByOtU1Y-o-THkyCIp0oLsQDTtvOapO8.jpeg)\n"
   ]
  },
  {
   "cell_type": "code",
   "execution_count": null,
   "metadata": {},
   "outputs": [],
   "source": []
  },
  {
   "cell_type": "markdown",
   "metadata": {},
   "source": [
    "## Problem 2: Weather\n",
    "Get the current weather using [Weather.com](https://weather.com/weather/tenday/l/Littleton+CO?canonicalCityId=fdf4c3d397c75000204ff2ba1b9e9fa4adb284a0bf750f25ad6cd43c96cf9090). Write a program to print out the high and low temperature for the next three days. Each line should include the date and the highs/lows. "
   ]
  },
  {
   "cell_type": "code",
   "execution_count": null,
   "metadata": {},
   "outputs": [],
   "source": []
  },
  {
   "cell_type": "markdown",
   "metadata": {},
   "source": [
    "## Problem 3: Recipes\n",
    "Create a program to remove the backstory from recipe websites. For simplicity, choose one website, for example [epicurious.com](https://www.epicurious.com/). For a recipe, your program needs to print out the title of the recipe, the total time, the serving size, a list of ingredients, and numbered steps.\n"
   ]
  },
  {
   "cell_type": "code",
   "execution_count": null,
   "metadata": {},
   "outputs": [],
   "source": []
  }
 ],
 "metadata": {
  "kernelspec": {
   "display_name": "base",
   "language": "python",
   "name": "python3"
  },
  "language_info": {
   "codemirror_mode": {
    "name": "ipython",
    "version": 3
   },
   "file_extension": ".py",
   "mimetype": "text/x-python",
   "name": "python",
   "nbconvert_exporter": "python",
   "pygments_lexer": "ipython3",
   "version": "3.11.5"
  }
 },
 "nbformat": 4,
 "nbformat_minor": 2
}
